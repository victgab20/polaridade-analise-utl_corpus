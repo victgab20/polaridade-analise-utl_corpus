{
  "nbformat": 4,
  "nbformat_minor": 0,
  "metadata": {
    "colab": {
      "provenance": [],
      "gpuType": "T4",
      "mount_file_id": "1cma9e9Ctbb6lptSWbP1GMR1u8iSQkrQH",
      "authorship_tag": "ABX9TyNiNznkAr7zVCclztH9EP3w",
      "include_colab_link": true
    },
    "kernelspec": {
      "name": "python3",
      "display_name": "Python 3"
    },
    "language_info": {
      "name": "python"
    },
    "accelerator": "GPU"
  },
  "cells": [
    {
      "cell_type": "markdown",
      "metadata": {
        "id": "view-in-github",
        "colab_type": "text"
      },
      "source": [
        "<a href=\"https://colab.research.google.com/github/victgab20/polaridade-analise-utl_corpus/blob/main/Polaridade.ipynb\" target=\"_parent\"><img src=\"https://colab.research.google.com/assets/colab-badge.svg\" alt=\"Open In Colab\"/></a>"
      ]
    },
    {
      "cell_type": "code",
      "execution_count": null,
      "metadata": {
        "id": "_DR6YQkaQIzD"
      },
      "outputs": [],
      "source": [
        "import pandas as pd\n",
        "import torch\n",
        "from torch.utils.data import DataLoader, Dataset\n",
        "import torch.nn as nn\n",
        "import torch.optim as optim\n",
        "import time\n",
        "from sklearn.metrics import accuracy_score, precision_recall_fscore_support, precision_score, recall_score, f1_score\n",
        "import pandas as pd\n",
        "import numpy as np\n",
        "import re\n",
        "import string\n",
        "from sklearn.feature_extraction.text import TfidfVectorizer\n",
        "import pickle\n",
        "from transformers import BertTokenizer\n"
      ]
    },
    {
      "cell_type": "code",
      "source": [
        "!python --version\n"
      ],
      "metadata": {
        "colab": {
          "base_uri": "https://localhost:8080/"
        },
        "id": "C96DB3ZdatP9",
        "outputId": "43439a59-9c89-4843-9874-3317ccbbd6bc"
      },
      "execution_count": null,
      "outputs": [
        {
          "output_type": "stream",
          "name": "stdout",
          "text": [
            "Python 3.11.11\n"
          ]
        }
      ]
    },
    {
      "cell_type": "code",
      "source": [
        "from google.colab import drive\n",
        "drive.mount('/content/drive')"
      ],
      "metadata": {
        "colab": {
          "base_uri": "https://localhost:8080/"
        },
        "id": "FzymSZhguNS9",
        "outputId": "60ac2de8-da5b-49c4-96b1-a627e9c064d1"
      },
      "execution_count": null,
      "outputs": [
        {
          "output_type": "stream",
          "name": "stdout",
          "text": [
            "Drive already mounted at /content/drive; to attempt to forcibly remount, call drive.mount(\"/content/drive\", force_remount=True).\n"
          ]
        }
      ]
    },
    {
      "cell_type": "code",
      "source": [
        "dataset_test_apps = pd.read_pickle(\"/content/drive/MyDrive/dataset/UTLCorpus/test_apps.pkl\")\n",
        "dataset_train_apps = pd.read_pickle(\"/content/drive/MyDrive/dataset/UTLCorpus/train_apps.pkl\")\n",
        "dataset_dev_apps= pd.read_pickle(\"/content/drive/MyDrive/dataset/UTLCorpus/dev_apps.pkl\")\n",
        "\n",
        "dataset_test = pd.read_pickle(\"/content/drive/MyDrive/dataset/UTLCorpus/test_filmes.pkl\")\n",
        "dataset_train = pd.read_pickle(\"/content/drive/MyDrive/dataset/UTLCorpus/train_filmes.pkl\")\n",
        "dataset_dev = pd.read_pickle(\"/content/drive/MyDrive/dataset/UTLCorpus/dev_filmes.pkl\")"
      ],
      "metadata": {
        "id": "EmuyssNZQZVZ"
      },
      "execution_count": null,
      "outputs": []
    },
    {
      "cell_type": "code",
      "source": [
        "# Converter 'stars' para numérico e remover avaliações neutras (estrelas == 3)\n",
        "def pre_processing(df: pd.DataFrame):\n",
        "    df[\"stars\"] = pd.to_numeric(df[\"stars\"], errors=\"coerce\")\n",
        "    original_shape = df.shape[0]\n",
        "    df = df[df[\"stars\"] != 3]\n",
        "    removed_rows = original_shape - df.shape[0]\n",
        "\n",
        "    # Criar a variável alvo: 1 para positivo (stars > 3), 0 para negativo (stars < 3)\n",
        "    df[\"label\"] = (df[\"stars\"] > 3).astype(int)\n",
        "\n",
        "    # Selecionar apenas as colunas úteis\n",
        "    y = df[\"label\"]\n",
        "    df = df[[\"text\"]]\n",
        "\n",
        "    # Preencher valores ausentes (se houver)\n",
        "    df.fillna(0, inplace=True)\n",
        "    return df, y\n",
        "\n",
        "\n",
        "dataset_test_apps_processed, y_test_apps = pre_processing(dataset_test_apps)\n",
        "dataset_train_apps_processed, y_train_apps = pre_processing(dataset_train_apps)\n",
        "dataset_dev_apps_processed, y_dev_apps = pre_processing(dataset_dev_apps)\n",
        "print(dataset_test_apps_processed.shape,y_test_apps.shape)\n",
        "print(dataset_train_apps_processed.shape, y_train_apps.shape)\n",
        "print(dataset_dev_apps_processed.shape, y_dev_apps.shape)\n",
        "\n",
        "dataset_test_filmes_processed, y_test_filmes = pre_processing(dataset_test)\n",
        "dataset_train_filmes_processed, y_train_filmes = pre_processing(dataset_train)\n",
        "dataset_dev_filmes_processed, y_dev_filmes = pre_processing(dataset_dev)\n",
        "\n",
        "print(dataset_test_filmes_processed.shape,y_test_filmes.shape)\n",
        "print(dataset_train_filmes_processed.shape, y_train_filmes.shape)\n",
        "print(dataset_dev_filmes_processed.shape, y_dev_filmes.shape)"
      ],
      "metadata": {
        "colab": {
          "base_uri": "https://localhost:8080/"
        },
        "id": "7DS08oRxOVBo",
        "outputId": "3f0e319a-06bc-4ced-d5c1-c5a74c86e9b1"
      },
      "execution_count": null,
      "outputs": [
        {
          "output_type": "stream",
          "name": "stderr",
          "text": [
            "<ipython-input-3-448e8b1f59ba>:9: SettingWithCopyWarning: \n",
            "A value is trying to be set on a copy of a slice from a DataFrame.\n",
            "Try using .loc[row_indexer,col_indexer] = value instead\n",
            "\n",
            "See the caveats in the documentation: https://pandas.pydata.org/pandas-docs/stable/user_guide/indexing.html#returning-a-view-versus-a-copy\n",
            "  df[\"label\"] = (df[\"stars\"] > 3).astype(int)\n",
            "<ipython-input-3-448e8b1f59ba>:9: SettingWithCopyWarning: \n",
            "A value is trying to be set on a copy of a slice from a DataFrame.\n",
            "Try using .loc[row_indexer,col_indexer] = value instead\n",
            "\n",
            "See the caveats in the documentation: https://pandas.pydata.org/pandas-docs/stable/user_guide/indexing.html#returning-a-view-versus-a-copy\n",
            "  df[\"label\"] = (df[\"stars\"] > 3).astype(int)\n",
            "<ipython-input-3-448e8b1f59ba>:9: SettingWithCopyWarning: \n",
            "A value is trying to be set on a copy of a slice from a DataFrame.\n",
            "Try using .loc[row_indexer,col_indexer] = value instead\n",
            "\n",
            "See the caveats in the documentation: https://pandas.pydata.org/pandas-docs/stable/user_guide/indexing.html#returning-a-view-versus-a-copy\n",
            "  df[\"label\"] = (df[\"stars\"] > 3).astype(int)\n",
            "<ipython-input-3-448e8b1f59ba>:9: SettingWithCopyWarning: \n",
            "A value is trying to be set on a copy of a slice from a DataFrame.\n",
            "Try using .loc[row_indexer,col_indexer] = value instead\n",
            "\n",
            "See the caveats in the documentation: https://pandas.pydata.org/pandas-docs/stable/user_guide/indexing.html#returning-a-view-versus-a-copy\n",
            "  df[\"label\"] = (df[\"stars\"] > 3).astype(int)\n"
          ]
        },
        {
          "output_type": "stream",
          "name": "stdout",
          "text": [
            "(175801, 1) (175801,)\n",
            "(615281, 1) (615281,)\n",
            "(87845, 1) (87845,)\n"
          ]
        },
        {
          "output_type": "stream",
          "name": "stderr",
          "text": [
            "<ipython-input-3-448e8b1f59ba>:9: SettingWithCopyWarning: \n",
            "A value is trying to be set on a copy of a slice from a DataFrame.\n",
            "Try using .loc[row_indexer,col_indexer] = value instead\n",
            "\n",
            "See the caveats in the documentation: https://pandas.pydata.org/pandas-docs/stable/user_guide/indexing.html#returning-a-view-versus-a-copy\n",
            "  df[\"label\"] = (df[\"stars\"] > 3).astype(int)\n"
          ]
        },
        {
          "output_type": "stream",
          "name": "stdout",
          "text": [
            "(339473, 1) (339473,)\n",
            "(1188408, 1) (1188408,)\n",
            "(169857, 1) (169857,)\n"
          ]
        },
        {
          "output_type": "stream",
          "name": "stderr",
          "text": [
            "<ipython-input-3-448e8b1f59ba>:9: SettingWithCopyWarning: \n",
            "A value is trying to be set on a copy of a slice from a DataFrame.\n",
            "Try using .loc[row_indexer,col_indexer] = value instead\n",
            "\n",
            "See the caveats in the documentation: https://pandas.pydata.org/pandas-docs/stable/user_guide/indexing.html#returning-a-view-versus-a-copy\n",
            "  df[\"label\"] = (df[\"stars\"] > 3).astype(int)\n"
          ]
        }
      ]
    },
    {
      "cell_type": "code",
      "source": [
        "y_dev_filmes.value_counts()"
      ],
      "metadata": {
        "colab": {
          "base_uri": "https://localhost:8080/",
          "height": 178
        },
        "id": "HkrCIOlse9_-",
        "outputId": "a3f7997a-97fe-4c1b-da7e-90789a6ca017"
      },
      "execution_count": null,
      "outputs": [
        {
          "output_type": "execute_result",
          "data": {
            "text/plain": [
              "label\n",
              "1    120722\n",
              "0     49135\n",
              "Name: count, dtype: int64"
            ],
            "text/html": [
              "<div>\n",
              "<style scoped>\n",
              "    .dataframe tbody tr th:only-of-type {\n",
              "        vertical-align: middle;\n",
              "    }\n",
              "\n",
              "    .dataframe tbody tr th {\n",
              "        vertical-align: top;\n",
              "    }\n",
              "\n",
              "    .dataframe thead th {\n",
              "        text-align: right;\n",
              "    }\n",
              "</style>\n",
              "<table border=\"1\" class=\"dataframe\">\n",
              "  <thead>\n",
              "    <tr style=\"text-align: right;\">\n",
              "      <th></th>\n",
              "      <th>count</th>\n",
              "    </tr>\n",
              "    <tr>\n",
              "      <th>label</th>\n",
              "      <th></th>\n",
              "    </tr>\n",
              "  </thead>\n",
              "  <tbody>\n",
              "    <tr>\n",
              "      <th>1</th>\n",
              "      <td>120722</td>\n",
              "    </tr>\n",
              "    <tr>\n",
              "      <th>0</th>\n",
              "      <td>49135</td>\n",
              "    </tr>\n",
              "  </tbody>\n",
              "</table>\n",
              "</div><br><label><b>dtype:</b> int64</label>"
            ]
          },
          "metadata": {},
          "execution_count": 4
        }
      ]
    },
    {
      "cell_type": "code",
      "source": [
        "from sklearn.feature_extraction.text import TfidfVectorizer\n",
        "\n",
        "# Função para separar os dados em mini-batches\n",
        "def generate_batches(X, y, batch_size=500):\n",
        "    num_samples = len(X)\n",
        "\n",
        "    for start_idx in range(0, num_samples, batch_size):\n",
        "        end_idx = min(start_idx + batch_size, num_samples)\n",
        "\n",
        "        # Extrair o mini-batch correspondente para X e y\n",
        "        X_batch = X[start_idx:end_idx]\n",
        "        y_batch = y[start_idx:end_idx]\n",
        "\n",
        "        yield X_batch, y_batch\n",
        "\n",
        "# Vetorização usando TfidfVectorizer\n",
        "vectorizer = TfidfVectorizer(max_features=5000)  # Defina o número máximo de características para controlar a memória\n",
        "\n",
        "# Ajuste o vetorizar para os dados de treino (fit)\n",
        "vectorizer.fit(dataset_train_apps_processed[\"text\"])\n",
        "\n",
        "# Defina o tamanho do batch\n",
        "batch_size = 500\n",
        "\n",
        "# Exemplo de como usar os mini-batches\n",
        "for X_batch, y_batch in generate_batches(dataset_train_apps_processed[\"text\"], y_train_apps, batch_size=batch_size):\n",
        "    # Vetorizar o mini-batch de X (texto)\n",
        "    X_batch_vectorized = vectorizer.transform(X_batch)\n"
      ],
      "metadata": {
        "id": "oNVFHMdriSpL"
      },
      "execution_count": null,
      "outputs": []
    },
    {
      "cell_type": "code",
      "source": [
        "class NaiveBayesNN(nn.Module):\n",
        "    def __init__(self, input_dim):\n",
        "        super(NaiveBayesNN, self).__init__()\n",
        "        self.fc1 = nn.Linear(input_dim, 1)  # Uma camada linear\n",
        "        self.sigmoid = nn.Sigmoid()  # Função de ativação para a classificação binária\n",
        "\n",
        "    def forward(self, x):\n",
        "        x = self.fc1(x)\n",
        "        x = self.sigmoid(x)\n",
        "        return x"
      ],
      "metadata": {
        "id": "8FeQb07gWxlU"
      },
      "execution_count": null,
      "outputs": []
    },
    {
      "cell_type": "code",
      "source": [
        "class LogisticRegressionModel(nn.Module):\n",
        "    def __init__(self, input_dim):\n",
        "        super(LogisticRegressionModel, self).__init__()\n",
        "        self.fc = nn.Linear(input_dim, 1)  # Camada linear\n",
        "        self.sigmoid = nn.Sigmoid()  # Função sigmoide para a saída binária\n",
        "\n",
        "    def forward(self, x):\n",
        "        x = self.fc(x)\n",
        "        x = self.sigmoid(x)\n",
        "        return x"
      ],
      "metadata": {
        "id": "knkKu6nnnrsM"
      },
      "execution_count": null,
      "outputs": []
    },
    {
      "cell_type": "code",
      "source": [
        "import torch\n",
        "from torch.utils.tensorboard import SummaryWriter\n",
        "from google.colab import drive\n",
        "\n",
        "class TensorBoardLogger:\n",
        "    def __init__(self, log_dir):\n",
        "        # Inicializa o SummaryWriter\n",
        "        self.writer = SummaryWriter(log_dir)\n",
        "\n",
        "    def log_epoch(self, epoch, train_loss, train_accuracy, train_precision, train_recall, train_f1,\n",
        "                  test_accuracy, test_precision, test_recall, test_f1):\n",
        "        # Registra as métricas de treinamento\n",
        "        self.writer.add_scalar('Loss/train', train_loss, epoch)\n",
        "        self.writer.add_scalar('Accuracy/train', train_accuracy, epoch)\n",
        "        self.writer.add_scalar('Precision/train', train_precision, epoch)\n",
        "        self.writer.add_scalar('Recall/train', train_recall, epoch)\n",
        "        self.writer.add_scalar('F1 Score/train', train_f1, epoch)\n",
        "\n",
        "        # Registra as métricas de teste\n",
        "        self.writer.add_scalar('Accuracy/test', test_accuracy, epoch)\n",
        "        self.writer.add_scalar('Precision/test', test_precision, epoch)\n",
        "        self.writer.add_scalar('Recall/test', test_recall, epoch)\n",
        "        self.writer.add_scalar('F1 Score/test', test_f1, epoch)\n",
        "\n",
        "    def close(self):\n",
        "        # Fecha o writer\n",
        "        self.writer.close()"
      ],
      "metadata": {
        "id": "Bx9HtHeBugM0"
      },
      "execution_count": null,
      "outputs": []
    },
    {
      "cell_type": "code",
      "source": [
        "# Definir parâmetros\n",
        "input_dim = X_batch_vectorized.shape[1]  # número de features após a vetorização\n",
        "batch_size = 500  # Defina o tamanho do batch\n",
        "learning_rate = 0.001\n",
        "epochs = 5  # Número de épocas para o treinamento\n",
        "\n",
        "# Criar o modelo\n",
        "model = NaiveBayesNN(input_dim=input_dim)\n",
        "\n",
        "# Função de perda e otimizador\n",
        "criterion = nn.BCELoss()  # Usando a Binary Cross-Entropy Loss\n",
        "optimizer = optim.Adam(model.parameters(), lr=learning_rate)\n",
        "\n",
        "# Colocar o modelo em modo de treinamento\n",
        "model.train()\n"
      ],
      "metadata": {
        "colab": {
          "base_uri": "https://localhost:8080/"
        },
        "id": "twYpUTGqkNBQ",
        "outputId": "6ac39dc7-6d85-4260-e564-b5810234405d"
      },
      "execution_count": null,
      "outputs": [
        {
          "output_type": "execute_result",
          "data": {
            "text/plain": [
              "NaiveBayesNN(\n",
              "  (fc1): Linear(in_features=5000, out_features=1, bias=True)\n",
              "  (sigmoid): Sigmoid()\n",
              ")"
            ]
          },
          "metadata": {},
          "execution_count": 8
        }
      ]
    },
    {
      "cell_type": "code",
      "source": [],
      "metadata": {
        "colab": {
          "base_uri": "https://localhost:8080/",
          "height": 458
        },
        "id": "1F9yZWA6fgsv",
        "outputId": "e2ecbc98-5ef0-4d53-91fe-32e875d56f25"
      },
      "execution_count": null,
      "outputs": [
        {
          "output_type": "execute_result",
          "data": {
            "text/plain": [
              "0          Gente, isso é uma comédia romântica. Todo mund...\n",
              "1          A partir de setembro de 1943, socialistas, ana...\n",
              "2                                 O melhor filme do mundo <3\n",
              "3          Incrível. É bom demais ver que ainda existem r...\n",
              "4                                          A cena da sacola.\n",
              "                                 ...                        \n",
              "1286012    Caraaamba, eu amei esse filme.Mesmo não sendo ...\n",
              "1286013    Não sei se só eu não entendi a parte em que o ...\n",
              "1286014    Nossa esse filme é muito legal,to doido pra co...\n",
              "1286015                                              Divino!\n",
              "1286017                                           Muito bom!\n",
              "Name: text, Length: 1188408, dtype: object"
            ],
            "text/html": [
              "<div>\n",
              "<style scoped>\n",
              "    .dataframe tbody tr th:only-of-type {\n",
              "        vertical-align: middle;\n",
              "    }\n",
              "\n",
              "    .dataframe tbody tr th {\n",
              "        vertical-align: top;\n",
              "    }\n",
              "\n",
              "    .dataframe thead th {\n",
              "        text-align: right;\n",
              "    }\n",
              "</style>\n",
              "<table border=\"1\" class=\"dataframe\">\n",
              "  <thead>\n",
              "    <tr style=\"text-align: right;\">\n",
              "      <th></th>\n",
              "      <th>text</th>\n",
              "    </tr>\n",
              "  </thead>\n",
              "  <tbody>\n",
              "    <tr>\n",
              "      <th>0</th>\n",
              "      <td>Gente, isso é uma comédia romântica. Todo mund...</td>\n",
              "    </tr>\n",
              "    <tr>\n",
              "      <th>1</th>\n",
              "      <td>A partir de setembro de 1943, socialistas, ana...</td>\n",
              "    </tr>\n",
              "    <tr>\n",
              "      <th>2</th>\n",
              "      <td>O melhor filme do mundo &lt;3</td>\n",
              "    </tr>\n",
              "    <tr>\n",
              "      <th>3</th>\n",
              "      <td>Incrível. É bom demais ver que ainda existem r...</td>\n",
              "    </tr>\n",
              "    <tr>\n",
              "      <th>4</th>\n",
              "      <td>A cena da sacola.</td>\n",
              "    </tr>\n",
              "    <tr>\n",
              "      <th>...</th>\n",
              "      <td>...</td>\n",
              "    </tr>\n",
              "    <tr>\n",
              "      <th>1286012</th>\n",
              "      <td>Caraaamba, eu amei esse filme.Mesmo não sendo ...</td>\n",
              "    </tr>\n",
              "    <tr>\n",
              "      <th>1286013</th>\n",
              "      <td>Não sei se só eu não entendi a parte em que o ...</td>\n",
              "    </tr>\n",
              "    <tr>\n",
              "      <th>1286014</th>\n",
              "      <td>Nossa esse filme é muito legal,to doido pra co...</td>\n",
              "    </tr>\n",
              "    <tr>\n",
              "      <th>1286015</th>\n",
              "      <td>Divino!</td>\n",
              "    </tr>\n",
              "    <tr>\n",
              "      <th>1286017</th>\n",
              "      <td>Muito bom!</td>\n",
              "    </tr>\n",
              "  </tbody>\n",
              "</table>\n",
              "<p>1188408 rows × 1 columns</p>\n",
              "</div><br><label><b>dtype:</b> object</label>"
            ]
          },
          "metadata": {},
          "execution_count": 13
        }
      ]
    },
    {
      "cell_type": "code",
      "source": [
        "from sklearn.feature_extraction.text import TfidfVectorizer\n",
        "from sklearn.metrics import precision_score, recall_score, f1_score\n",
        "\n",
        "# Defina o tamanho do batch\n",
        "batch_size = 1500\n",
        "\n",
        "log_dir = '/content/drive/MyDrive/runs/your_experiment_name/NaiveBayesNN_apps'  # Altere o nome do diretório conforme necessário\n",
        "logger = TensorBoardLogger(log_dir)\n",
        "\n",
        "# Vetorização usando TfidfVectorizer\n",
        "vectorizer = TfidfVectorizer(max_features=5000)  # Defina o número máximo de características para controlar a memória\n",
        "\n",
        "# Ajuste o vetorizar para os dados de treino (fit)\n",
        "vectorizer.fit(dataset_train_apps_processed[\"text\"])\n",
        "\n",
        "# Função de treinamento com avaliação em cada época\n",
        "epochs = 15\n",
        "for epoch in range(epochs):\n",
        "    total_loss = 0\n",
        "    total_correct = 0\n",
        "    total_samples = 0\n",
        "    all_preds = []  # Lista para armazenar previsões\n",
        "    all_labels = []  # Lista para armazenar rótulos verdadeiros\n",
        "\n",
        "    # Gerar batches e treinar\n",
        "    for X_batch, y_batch in generate_batches(dataset_train_apps_processed[\"text\"], y_train_apps, batch_size=batch_size):\n",
        "        # Vetorizar o batch de X (texto)\n",
        "        X_batch_vectorized = vectorizer.transform(X_batch).toarray()  # Conversão para numpy array\n",
        "        X_batch_tensor = torch.tensor(X_batch_vectorized, dtype=torch.float32)  # Converter para tensor\n",
        "\n",
        "        # Converter y_batch para tensor\n",
        "        y_batch_tensor = torch.tensor(y_batch.values, dtype=torch.float32).view(-1, 1)\n",
        "\n",
        "        # Passar os dados pelo modelo\n",
        "        optimizer.zero_grad()  # Zerando os gradientes do otimizador\n",
        "        outputs = model(X_batch_tensor)  # Obter as saídas do modelo\n",
        "\n",
        "        # Calcular a perda\n",
        "        loss = criterion(outputs, y_batch_tensor)\n",
        "        total_loss += loss.item()\n",
        "\n",
        "        # Calcular a acurácia\n",
        "        predicted = (outputs >= 0.5).float()\n",
        "        total_correct += (predicted == y_batch_tensor).sum().item()\n",
        "        total_samples += y_batch_tensor.size(0)\n",
        "\n",
        "        # Armazenar previsões e rótulos para métricas\n",
        "        all_preds.extend(predicted.numpy())\n",
        "        all_labels.extend(y_batch_tensor.numpy())\n",
        "\n",
        "        # Backpropagation e otimização\n",
        "        loss.backward()\n",
        "        optimizer.step()\n",
        "\n",
        "    avg_loss = total_loss / (total_samples / batch_size)  # Média da perda por batch\n",
        "    accuracy = total_correct / total_samples\n",
        "\n",
        "    # Calcular métricas adicionais\n",
        "    precision = precision_score(all_labels, all_preds)\n",
        "    recall = recall_score(all_labels, all_preds)\n",
        "    f1 = f1_score(all_labels, all_preds)  # A variável f1 foi renomeada corretamente\n",
        "\n",
        "    print(f'Epoch [{epoch + 1}/{epochs}], Loss: {avg_loss:.4f}, Accuracy: {accuracy:.4f}, '\n",
        "          f'Precision: {precision:.4f}, Recall: {recall:.4f}, F1 Score: {f1:.4f}')\n",
        "\n",
        "    # Avaliação no conjunto de teste após cada época\n",
        "    model.eval()  # Colocar o modelo em modo de avaliação\n",
        "    with torch.no_grad():  # Desativar o cálculo dos gradientes durante a avaliação\n",
        "        total_correct_test = 0\n",
        "        total_samples_test = 0\n",
        "        all_preds_test = []  # Lista para previsões no teste\n",
        "        all_labels_test = []  # Lista para rótulos verdadeiros no teste\n",
        "\n",
        "        for X_batch, y_batch in generate_batches(dataset_test_apps_processed[\"text\"], y_test_apps, batch_size=batch_size):\n",
        "            # Vetorizar o batch de X (texto)\n",
        "            X_batch_vectorized = vectorizer.transform(X_batch).toarray()  # Conversão para numpy array\n",
        "            X_batch_tensor = torch.tensor(X_batch_vectorized, dtype=torch.float32)  # Converter para tensor\n",
        "\n",
        "            # Converter y_batch para tensor\n",
        "            y_batch_tensor = torch.tensor(y_batch.values, dtype=torch.float32).view(-1, 1)\n",
        "\n",
        "            # Passar os dados pelo modelo\n",
        "            outputs = model(X_batch_tensor)  # Obter as saídas do modelo\n",
        "\n",
        "            # Calcular a acurácia\n",
        "            predicted = (outputs >= 0.5).float()\n",
        "            total_correct_test += (predicted == y_batch_tensor).sum().item()\n",
        "            total_samples_test += y_batch_tensor.size(0)\n",
        "\n",
        "            # Armazenar previsões e rótulos para métricas no teste\n",
        "            all_preds_test.extend(predicted.numpy())\n",
        "            all_labels_test.extend(y_batch_tensor.numpy())\n",
        "\n",
        "        # Calcular métricas de teste\n",
        "        test_accuracy = total_correct_test / total_samples_test\n",
        "        test_precision = precision_score(all_labels_test, all_preds_test)\n",
        "        test_recall = recall_score(all_labels_test, all_preds_test)\n",
        "        test_f1 = f1_score(all_labels_test, all_preds_test)\n",
        "\n",
        "        print(f'Test Accuracy after epoch {epoch + 1}: {test_accuracy:.4f}, '\n",
        "              f'Precision: {test_precision:.4f}, Recall: {test_recall:.4f}, F1 Score: {test_f1:.4f}')\n",
        "\n",
        "        # Corrigido para passar a variável f1\n",
        "        logger.log_epoch(epoch, avg_loss, accuracy, precision, recall, f1,\n",
        "                         test_accuracy, test_precision, test_recall, test_f1)\n",
        "        torch.save(model.state_dict(), \"polarity_apps.pt\")\n",
        "\n",
        "logger.close()\n"
      ],
      "metadata": {
        "colab": {
          "base_uri": "https://localhost:8080/"
        },
        "id": "7H1zUnTrooKy",
        "outputId": "8b99fecd-5978-4094-8449-afc68ebec88e"
      },
      "execution_count": null,
      "outputs": [
        {
          "output_type": "stream",
          "name": "stdout",
          "text": [
            "Epoch [1/15], Loss: 0.5643, Accuracy: 0.7874, Precision: 0.7852, Recall: 0.9980, F1 Score: 0.8789\n",
            "Test Accuracy after epoch 1: 0.8048, Precision: 0.7996, Recall: 0.9969, F1 Score: 0.8874\n",
            "Epoch [2/15], Loss: 0.4333, Accuracy: 0.8347, Precision: 0.8283, Recall: 0.9917, F1 Score: 0.9027\n",
            "Test Accuracy after epoch 2: 0.8488, Precision: 0.8427, Recall: 0.9886, F1 Score: 0.9099\n",
            "Epoch [3/15], Loss: 0.3657, Accuracy: 0.8668, Precision: 0.8636, Recall: 0.9829, F1 Score: 0.9194\n",
            "Test Accuracy after epoch 3: 0.8712, Precision: 0.8697, Recall: 0.9800, F1 Score: 0.9216\n",
            "Epoch [4/15], Loss: 0.3247, Accuracy: 0.8827, Precision: 0.8843, Recall: 0.9760, F1 Score: 0.9279\n",
            "Test Accuracy after epoch 4: 0.8833, Precision: 0.8862, Recall: 0.9739, F1 Score: 0.9280\n",
            "Epoch [5/15], Loss: 0.2979, Accuracy: 0.8914, Precision: 0.8969, Recall: 0.9711, F1 Score: 0.9325\n",
            "Test Accuracy after epoch 5: 0.8906, Precision: 0.8969, Recall: 0.9697, F1 Score: 0.9319\n",
            "Epoch [6/15], Loss: 0.2791, Accuracy: 0.8971, Precision: 0.9053, Recall: 0.9682, F1 Score: 0.9357\n",
            "Test Accuracy after epoch 6: 0.8956, Precision: 0.9044, Recall: 0.9669, F1 Score: 0.9346\n",
            "Epoch [7/15], Loss: 0.2653, Accuracy: 0.9013, Precision: 0.9113, Recall: 0.9663, F1 Score: 0.9380\n",
            "Test Accuracy after epoch 7: 0.8992, Precision: 0.9097, Recall: 0.9652, F1 Score: 0.9366\n",
            "Epoch [8/15], Loss: 0.2548, Accuracy: 0.9042, Precision: 0.9158, Recall: 0.9648, F1 Score: 0.9397\n",
            "Test Accuracy after epoch 8: 0.9020, Precision: 0.9139, Recall: 0.9638, F1 Score: 0.9382\n",
            "Epoch [9/15], Loss: 0.2465, Accuracy: 0.9066, Precision: 0.9193, Recall: 0.9638, F1 Score: 0.9410\n",
            "Test Accuracy after epoch 9: 0.9041, Precision: 0.9172, Recall: 0.9628, F1 Score: 0.9394\n",
            "Epoch [10/15], Loss: 0.2398, Accuracy: 0.9086, Precision: 0.9221, Recall: 0.9631, F1 Score: 0.9422\n",
            "Test Accuracy after epoch 10: 0.9060, Precision: 0.9197, Recall: 0.9621, F1 Score: 0.9404\n",
            "Epoch [11/15], Loss: 0.2343, Accuracy: 0.9102, Precision: 0.9245, Recall: 0.9625, F1 Score: 0.9431\n",
            "Test Accuracy after epoch 11: 0.9076, Precision: 0.9222, Recall: 0.9615, F1 Score: 0.9414\n",
            "Epoch [12/15], Loss: 0.2297, Accuracy: 0.9118, Precision: 0.9267, Recall: 0.9620, F1 Score: 0.9440\n",
            "Test Accuracy after epoch 12: 0.9090, Precision: 0.9240, Recall: 0.9611, F1 Score: 0.9422\n",
            "Epoch [13/15], Loss: 0.2259, Accuracy: 0.9132, Precision: 0.9287, Recall: 0.9616, F1 Score: 0.9448\n",
            "Test Accuracy after epoch 13: 0.9101, Precision: 0.9256, Recall: 0.9607, F1 Score: 0.9428\n",
            "Epoch [14/15], Loss: 0.2226, Accuracy: 0.9145, Precision: 0.9304, Recall: 0.9612, F1 Score: 0.9456\n",
            "Test Accuracy after epoch 14: 0.9111, Precision: 0.9272, Recall: 0.9601, F1 Score: 0.9434\n",
            "Epoch [15/15], Loss: 0.2199, Accuracy: 0.9154, Precision: 0.9318, Recall: 0.9609, F1 Score: 0.9461\n",
            "Test Accuracy after epoch 15: 0.9121, Precision: 0.9287, Recall: 0.9599, F1 Score: 0.9440\n"
          ]
        }
      ]
    },
    {
      "cell_type": "code",
      "source": [
        "# Função de treinamento com avaliação em cada época\n",
        "epochs = 20\n",
        "for epoch in range(epochs):\n",
        "    total_loss = 0\n",
        "    total_correct = 0\n",
        "    total_samples = 0\n",
        "\n",
        "    # Gerar batches e treinar\n",
        "    for X_batch, y_batch in generate_batches(dataset_train_apps_processed[\"text\"], y_train_apps, batch_size=batch_size):\n",
        "        # Vetorizar o batch de X (texto)\n",
        "        X_batch_vectorized = vectorizer.transform(X_batch).toarray()  # Conversão para numpy array\n",
        "        X_batch_tensor = torch.tensor(X_batch_vectorized, dtype=torch.float32)  # Converter para tensor\n",
        "\n",
        "        # Converter y_batch para tensor\n",
        "        y_batch_tensor = torch.tensor(y_batch.values, dtype=torch.float32).view(-1, 1)\n",
        "\n",
        "        # Passar os dados pelo modelo\n",
        "        optimizer.zero_grad()  # Zerando os gradientes do otimizador\n",
        "        outputs = model(X_batch_tensor)  # Obter as saídas do modelo\n",
        "\n",
        "        # Calcular a perda\n",
        "        loss = criterion(outputs, y_batch_tensor)\n",
        "        total_loss += loss.item()\n",
        "\n",
        "        # Calcular a acurácia\n",
        "        predicted = (outputs >= 0.5).float()\n",
        "        total_correct += (predicted == y_batch_tensor).sum().item()\n",
        "        total_samples += y_batch_tensor.size(0)\n",
        "\n",
        "        # Backpropagation e otimização\n",
        "        loss.backward()\n",
        "        optimizer.step()\n",
        "\n",
        "    avg_loss = total_loss / len(dataset_train_apps_processed)\n",
        "    accuracy = total_correct / total_samples\n",
        "    print(f'Epoch [{epoch+1}/{epochs}], Loss: {avg_loss:.4f}, Accuracy: {accuracy:.4f}')\n",
        "\n",
        "    # Avaliação no conjunto de teste após cada época\n",
        "    model.eval()  # Colocar o modelo em modo de avaliação\n",
        "    with torch.no_grad():  # Desativar o cálculo dos gradientes durante a avaliação\n",
        "        total_correct_test = 0\n",
        "        total_samples_test = 0\n",
        "\n",
        "        for X_batch, y_batch in generate_batches(dataset_test_apps_processed[\"text\"], y_test_apps, batch_size=batch_size):\n",
        "            # Vetorizar o batch de X (texto)\n",
        "            X_batch_vectorized = vectorizer.transform(X_batch).toarray()  # Conversão para numpy array\n",
        "            X_batch_tensor = torch.tensor(X_batch_vectorized, dtype=torch.float32)  # Converter para tensor\n",
        "\n",
        "            # Converter y_batch para tensor\n",
        "            y_batch_tensor = torch.tensor(y_batch.values, dtype=torch.float32).view(-1, 1)\n",
        "\n",
        "            # Passar os dados pelo modelo\n",
        "            outputs = model(X_batch_tensor)  # Obter as saídas do modelo\n",
        "\n",
        "            # Calcular a acurácia\n",
        "            predicted = (outputs >= 0.5).float()\n",
        "            total_correct_test += (predicted == y_batch_tensor).sum().item()\n",
        "            total_samples_test += y_batch_tensor.size(0)\n",
        "\n",
        "    test_accuracy = total_correct_test / total_samples_test\n",
        "    print(f'Test Accuracy after epoch {epoch + 1}: {test_accuracy:.4f}')\n"
      ],
      "metadata": {
        "colab": {
          "base_uri": "https://localhost:8080/",
          "height": 478
        },
        "id": "T9_-6LEMlxD6",
        "outputId": "d9825b52-f26c-4cd5-e623-228d33ac0a00"
      },
      "execution_count": null,
      "outputs": [
        {
          "output_type": "stream",
          "name": "stdout",
          "text": [
            "Epoch [1/20], Loss: 0.0004, Accuracy: 0.9230\n",
            "Test Accuracy after epoch 1: 0.9187\n",
            "Epoch [2/20], Loss: 0.0004, Accuracy: 0.9231\n",
            "Test Accuracy after epoch 2: 0.9186\n",
            "Epoch [3/20], Loss: 0.0004, Accuracy: 0.9232\n",
            "Test Accuracy after epoch 3: 0.9187\n"
          ]
        },
        {
          "output_type": "error",
          "ename": "KeyboardInterrupt",
          "evalue": "",
          "traceback": [
            "\u001b[0;31m---------------------------------------------------------------------------\u001b[0m",
            "\u001b[0;31mKeyboardInterrupt\u001b[0m                         Traceback (most recent call last)",
            "\u001b[0;32m<ipython-input-74-07c6817086f4>\u001b[0m in \u001b[0;36m<cell line: 0>\u001b[0;34m()\u001b[0m\n\u001b[1;32m      9\u001b[0m     \u001b[0;32mfor\u001b[0m \u001b[0mX_batch\u001b[0m\u001b[0;34m,\u001b[0m \u001b[0my_batch\u001b[0m \u001b[0;32min\u001b[0m \u001b[0mgenerate_batches\u001b[0m\u001b[0;34m(\u001b[0m\u001b[0mdataset_train_apps_processed\u001b[0m\u001b[0;34m[\u001b[0m\u001b[0;34m\"text\"\u001b[0m\u001b[0;34m]\u001b[0m\u001b[0;34m,\u001b[0m \u001b[0my_train_apps\u001b[0m\u001b[0;34m,\u001b[0m \u001b[0mbatch_size\u001b[0m\u001b[0;34m=\u001b[0m\u001b[0mbatch_size\u001b[0m\u001b[0;34m)\u001b[0m\u001b[0;34m:\u001b[0m\u001b[0;34m\u001b[0m\u001b[0;34m\u001b[0m\u001b[0m\n\u001b[1;32m     10\u001b[0m         \u001b[0;31m# Vetorizar o batch de X (texto)\u001b[0m\u001b[0;34m\u001b[0m\u001b[0;34m\u001b[0m\u001b[0m\n\u001b[0;32m---> 11\u001b[0;31m         \u001b[0mX_batch_vectorized\u001b[0m \u001b[0;34m=\u001b[0m \u001b[0mvectorizer\u001b[0m\u001b[0;34m.\u001b[0m\u001b[0mtransform\u001b[0m\u001b[0;34m(\u001b[0m\u001b[0mX_batch\u001b[0m\u001b[0;34m)\u001b[0m\u001b[0;34m.\u001b[0m\u001b[0mtoarray\u001b[0m\u001b[0;34m(\u001b[0m\u001b[0;34m)\u001b[0m  \u001b[0;31m# Conversão para numpy array\u001b[0m\u001b[0;34m\u001b[0m\u001b[0;34m\u001b[0m\u001b[0m\n\u001b[0m\u001b[1;32m     12\u001b[0m         \u001b[0mX_batch_tensor\u001b[0m \u001b[0;34m=\u001b[0m \u001b[0mtorch\u001b[0m\u001b[0;34m.\u001b[0m\u001b[0mtensor\u001b[0m\u001b[0;34m(\u001b[0m\u001b[0mX_batch_vectorized\u001b[0m\u001b[0;34m,\u001b[0m \u001b[0mdtype\u001b[0m\u001b[0;34m=\u001b[0m\u001b[0mtorch\u001b[0m\u001b[0;34m.\u001b[0m\u001b[0mfloat32\u001b[0m\u001b[0;34m)\u001b[0m  \u001b[0;31m# Converter para tensor\u001b[0m\u001b[0;34m\u001b[0m\u001b[0;34m\u001b[0m\u001b[0m\n\u001b[1;32m     13\u001b[0m \u001b[0;34m\u001b[0m\u001b[0m\n",
            "\u001b[0;32m/usr/local/lib/python3.11/dist-packages/sklearn/feature_extraction/text.py\u001b[0m in \u001b[0;36mtransform\u001b[0;34m(self, raw_documents)\u001b[0m\n\u001b[1;32m   2126\u001b[0m         \u001b[0mcheck_is_fitted\u001b[0m\u001b[0;34m(\u001b[0m\u001b[0mself\u001b[0m\u001b[0;34m,\u001b[0m \u001b[0mmsg\u001b[0m\u001b[0;34m=\u001b[0m\u001b[0;34m\"The TF-IDF vectorizer is not fitted\"\u001b[0m\u001b[0;34m)\u001b[0m\u001b[0;34m\u001b[0m\u001b[0;34m\u001b[0m\u001b[0m\n\u001b[1;32m   2127\u001b[0m \u001b[0;34m\u001b[0m\u001b[0m\n\u001b[0;32m-> 2128\u001b[0;31m         \u001b[0mX\u001b[0m \u001b[0;34m=\u001b[0m \u001b[0msuper\u001b[0m\u001b[0;34m(\u001b[0m\u001b[0;34m)\u001b[0m\u001b[0;34m.\u001b[0m\u001b[0mtransform\u001b[0m\u001b[0;34m(\u001b[0m\u001b[0mraw_documents\u001b[0m\u001b[0;34m)\u001b[0m\u001b[0;34m\u001b[0m\u001b[0;34m\u001b[0m\u001b[0m\n\u001b[0m\u001b[1;32m   2129\u001b[0m         \u001b[0;32mreturn\u001b[0m \u001b[0mself\u001b[0m\u001b[0;34m.\u001b[0m\u001b[0m_tfidf\u001b[0m\u001b[0;34m.\u001b[0m\u001b[0mtransform\u001b[0m\u001b[0;34m(\u001b[0m\u001b[0mX\u001b[0m\u001b[0;34m,\u001b[0m \u001b[0mcopy\u001b[0m\u001b[0;34m=\u001b[0m\u001b[0;32mFalse\u001b[0m\u001b[0;34m)\u001b[0m\u001b[0;34m\u001b[0m\u001b[0;34m\u001b[0m\u001b[0m\n\u001b[1;32m   2130\u001b[0m \u001b[0;34m\u001b[0m\u001b[0m\n",
            "\u001b[0;32m/usr/local/lib/python3.11/dist-packages/sklearn/feature_extraction/text.py\u001b[0m in \u001b[0;36mtransform\u001b[0;34m(self, raw_documents)\u001b[0m\n\u001b[1;32m   1419\u001b[0m \u001b[0;34m\u001b[0m\u001b[0m\n\u001b[1;32m   1420\u001b[0m         \u001b[0;31m# use the same matrix-building strategy as fit_transform\u001b[0m\u001b[0;34m\u001b[0m\u001b[0;34m\u001b[0m\u001b[0m\n\u001b[0;32m-> 1421\u001b[0;31m         \u001b[0m_\u001b[0m\u001b[0;34m,\u001b[0m \u001b[0mX\u001b[0m \u001b[0;34m=\u001b[0m \u001b[0mself\u001b[0m\u001b[0;34m.\u001b[0m\u001b[0m_count_vocab\u001b[0m\u001b[0;34m(\u001b[0m\u001b[0mraw_documents\u001b[0m\u001b[0;34m,\u001b[0m \u001b[0mfixed_vocab\u001b[0m\u001b[0;34m=\u001b[0m\u001b[0;32mTrue\u001b[0m\u001b[0;34m)\u001b[0m\u001b[0;34m\u001b[0m\u001b[0;34m\u001b[0m\u001b[0m\n\u001b[0m\u001b[1;32m   1422\u001b[0m         \u001b[0;32mif\u001b[0m \u001b[0mself\u001b[0m\u001b[0;34m.\u001b[0m\u001b[0mbinary\u001b[0m\u001b[0;34m:\u001b[0m\u001b[0;34m\u001b[0m\u001b[0;34m\u001b[0m\u001b[0m\n\u001b[1;32m   1423\u001b[0m             \u001b[0mX\u001b[0m\u001b[0;34m.\u001b[0m\u001b[0mdata\u001b[0m\u001b[0;34m.\u001b[0m\u001b[0mfill\u001b[0m\u001b[0;34m(\u001b[0m\u001b[0;36m1\u001b[0m\u001b[0;34m)\u001b[0m\u001b[0;34m\u001b[0m\u001b[0;34m\u001b[0m\u001b[0m\n",
            "\u001b[0;32m/usr/local/lib/python3.11/dist-packages/sklearn/feature_extraction/text.py\u001b[0m in \u001b[0;36m_count_vocab\u001b[0;34m(self, raw_documents, fixed_vocab)\u001b[0m\n\u001b[1;32m   1261\u001b[0m         \u001b[0;32mfor\u001b[0m \u001b[0mdoc\u001b[0m \u001b[0;32min\u001b[0m \u001b[0mraw_documents\u001b[0m\u001b[0;34m:\u001b[0m\u001b[0;34m\u001b[0m\u001b[0;34m\u001b[0m\u001b[0m\n\u001b[1;32m   1262\u001b[0m             \u001b[0mfeature_counter\u001b[0m \u001b[0;34m=\u001b[0m \u001b[0;34m{\u001b[0m\u001b[0;34m}\u001b[0m\u001b[0;34m\u001b[0m\u001b[0;34m\u001b[0m\u001b[0m\n\u001b[0;32m-> 1263\u001b[0;31m             \u001b[0;32mfor\u001b[0m \u001b[0mfeature\u001b[0m \u001b[0;32min\u001b[0m \u001b[0manalyze\u001b[0m\u001b[0;34m(\u001b[0m\u001b[0mdoc\u001b[0m\u001b[0;34m)\u001b[0m\u001b[0;34m:\u001b[0m\u001b[0;34m\u001b[0m\u001b[0;34m\u001b[0m\u001b[0m\n\u001b[0m\u001b[1;32m   1264\u001b[0m                 \u001b[0;32mtry\u001b[0m\u001b[0;34m:\u001b[0m\u001b[0;34m\u001b[0m\u001b[0;34m\u001b[0m\u001b[0m\n\u001b[1;32m   1265\u001b[0m                     \u001b[0mfeature_idx\u001b[0m \u001b[0;34m=\u001b[0m \u001b[0mvocabulary\u001b[0m\u001b[0;34m[\u001b[0m\u001b[0mfeature\u001b[0m\u001b[0;34m]\u001b[0m\u001b[0;34m\u001b[0m\u001b[0;34m\u001b[0m\u001b[0m\n",
            "\u001b[0;32m/usr/local/lib/python3.11/dist-packages/sklearn/feature_extraction/text.py\u001b[0m in \u001b[0;36m_analyze\u001b[0;34m(doc, analyzer, tokenizer, ngrams, preprocessor, decoder, stop_words)\u001b[0m\n\u001b[1;32m    102\u001b[0m     \u001b[0;32melse\u001b[0m\u001b[0;34m:\u001b[0m\u001b[0;34m\u001b[0m\u001b[0;34m\u001b[0m\u001b[0m\n\u001b[1;32m    103\u001b[0m         \u001b[0;32mif\u001b[0m \u001b[0mpreprocessor\u001b[0m \u001b[0;32mis\u001b[0m \u001b[0;32mnot\u001b[0m \u001b[0;32mNone\u001b[0m\u001b[0;34m:\u001b[0m\u001b[0;34m\u001b[0m\u001b[0;34m\u001b[0m\u001b[0m\n\u001b[0;32m--> 104\u001b[0;31m             \u001b[0mdoc\u001b[0m \u001b[0;34m=\u001b[0m \u001b[0mpreprocessor\u001b[0m\u001b[0;34m(\u001b[0m\u001b[0mdoc\u001b[0m\u001b[0;34m)\u001b[0m\u001b[0;34m\u001b[0m\u001b[0;34m\u001b[0m\u001b[0m\n\u001b[0m\u001b[1;32m    105\u001b[0m         \u001b[0;32mif\u001b[0m \u001b[0mtokenizer\u001b[0m \u001b[0;32mis\u001b[0m \u001b[0;32mnot\u001b[0m \u001b[0;32mNone\u001b[0m\u001b[0;34m:\u001b[0m\u001b[0;34m\u001b[0m\u001b[0;34m\u001b[0m\u001b[0m\n\u001b[1;32m    106\u001b[0m             \u001b[0mdoc\u001b[0m \u001b[0;34m=\u001b[0m \u001b[0mtokenizer\u001b[0m\u001b[0;34m(\u001b[0m\u001b[0mdoc\u001b[0m\u001b[0;34m)\u001b[0m\u001b[0;34m\u001b[0m\u001b[0;34m\u001b[0m\u001b[0m\n",
            "\u001b[0;32m/usr/local/lib/python3.11/dist-packages/sklearn/feature_extraction/text.py\u001b[0m in \u001b[0;36m_preprocess\u001b[0;34m(doc, accent_function, lower)\u001b[0m\n\u001b[1;32m     60\u001b[0m     \"\"\"\n\u001b[1;32m     61\u001b[0m     \u001b[0;32mif\u001b[0m \u001b[0mlower\u001b[0m\u001b[0;34m:\u001b[0m\u001b[0;34m\u001b[0m\u001b[0;34m\u001b[0m\u001b[0m\n\u001b[0;32m---> 62\u001b[0;31m         \u001b[0mdoc\u001b[0m \u001b[0;34m=\u001b[0m \u001b[0mdoc\u001b[0m\u001b[0;34m.\u001b[0m\u001b[0mlower\u001b[0m\u001b[0;34m(\u001b[0m\u001b[0;34m)\u001b[0m\u001b[0;34m\u001b[0m\u001b[0;34m\u001b[0m\u001b[0m\n\u001b[0m\u001b[1;32m     63\u001b[0m     \u001b[0;32mif\u001b[0m \u001b[0maccent_function\u001b[0m \u001b[0;32mis\u001b[0m \u001b[0;32mnot\u001b[0m \u001b[0;32mNone\u001b[0m\u001b[0;34m:\u001b[0m\u001b[0;34m\u001b[0m\u001b[0;34m\u001b[0m\u001b[0m\n\u001b[1;32m     64\u001b[0m         \u001b[0mdoc\u001b[0m \u001b[0;34m=\u001b[0m \u001b[0maccent_function\u001b[0m\u001b[0;34m(\u001b[0m\u001b[0mdoc\u001b[0m\u001b[0;34m)\u001b[0m\u001b[0;34m\u001b[0m\u001b[0;34m\u001b[0m\u001b[0m\n",
            "\u001b[0;31mKeyboardInterrupt\u001b[0m: "
          ]
        }
      ]
    },
    {
      "cell_type": "code",
      "source": [
        "class LogisticRegressionModel(nn.Module):\n",
        "    def __init__(self, input_dim):\n",
        "        super(LogisticRegressionModel, self).__init__()\n",
        "        self.fc = nn.Linear(input_dim, 1)  # Camada linear\n",
        "        self.sigmoid = nn.Sigmoid()  # Função sigmoide para a saída binária\n",
        "\n",
        "    def forward(self, x):\n",
        "        x = self.fc(x)\n",
        "        x = self.sigmoid(x)\n",
        "        return x"
      ],
      "metadata": {
        "id": "gSfcd8x9X9zS"
      },
      "execution_count": null,
      "outputs": []
    }
  ]
}